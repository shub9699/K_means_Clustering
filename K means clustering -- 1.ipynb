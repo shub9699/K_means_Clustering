{
 "cells": [
  {
   "cell_type": "code",
   "execution_count": 1,
   "metadata": {},
   "outputs": [],
   "source": [
    "import pandas as pd\n",
    "import numpy as np\n",
    "import matplotlib.pyplot as plt\n",
    "from sklearn.cluster import KMeans"
   ]
  },
  {
   "cell_type": "markdown",
   "metadata": {},
   "source": [
    "###### create an array of the given shape and populate it with random samples from a uniform distribution over (0,1)"
   ]
  },
  {
   "cell_type": "code",
   "execution_count": 2,
   "metadata": {},
   "outputs": [
    {
     "data": {
      "text/plain": [
       "array([[-1.31375919, -0.75939747],\n",
       "       [-1.21624259, -0.38559971],\n",
       "       [-0.57555474, -0.8486177 ],\n",
       "       [-1.44526086, -0.37899396],\n",
       "       [-0.42642776, -0.10504468],\n",
       "       [-1.40392503, -0.07122817],\n",
       "       [-0.06543074, -0.16087834],\n",
       "       [-1.33645389, -1.25556566],\n",
       "       [-1.51301546, -1.04373098],\n",
       "       [-0.53272451, -0.28163222]])"
      ]
     },
     "execution_count": 2,
     "metadata": {},
     "output_type": "execute_result"
    }
   ],
   "source": [
    "X = -2 *np.random.rand(100,2)\n",
    "X[:10]"
   ]
  },
  {
   "cell_type": "code",
   "execution_count": 3,
   "metadata": {},
   "outputs": [
    {
     "data": {
      "text/plain": [
       "array([[1.09986642, 2.38541169],\n",
       "       [2.01381672, 1.63590435],\n",
       "       [2.17357649, 2.67510929],\n",
       "       [1.10833193, 1.5630426 ],\n",
       "       [2.64628464, 2.10191939],\n",
       "       [2.95421971, 1.13906222],\n",
       "       [1.44521838, 1.00598879],\n",
       "       [1.66942982, 2.40148954],\n",
       "       [1.12335518, 2.92924528],\n",
       "       [2.11378365, 2.15673233]])"
      ]
     },
     "execution_count": 3,
     "metadata": {},
     "output_type": "execute_result"
    }
   ],
   "source": [
    "X1 = 1 + 2 * np.random.rand(50,2)\n",
    "X1[:10]"
   ]
  },
  {
   "cell_type": "markdown",
   "metadata": {},
   "source": [
    "###### copying the values of X1 in to 2nd half of X"
   ]
  },
  {
   "cell_type": "code",
   "execution_count": 4,
   "metadata": {},
   "outputs": [],
   "source": [
    "X[50:100, :] = X1 "
   ]
  },
  {
   "cell_type": "code",
   "execution_count": 7,
   "metadata": {
    "collapsed": true
   },
   "outputs": [
    {
     "data": {
      "text/plain": [
       "array([[1.09986642, 2.38541169],\n",
       "       [2.01381672, 1.63590435],\n",
       "       [2.17357649, 2.67510929],\n",
       "       [1.10833193, 1.5630426 ],\n",
       "       [2.64628464, 2.10191939],\n",
       "       [2.95421971, 1.13906222],\n",
       "       [1.44521838, 1.00598879],\n",
       "       [1.66942982, 2.40148954],\n",
       "       [1.12335518, 2.92924528],\n",
       "       [2.11378365, 2.15673233],\n",
       "       [2.58971037, 1.04107299],\n",
       "       [2.03508682, 1.28399173],\n",
       "       [2.22577687, 2.41449535],\n",
       "       [2.77848761, 1.83646657],\n",
       "       [2.15470494, 2.09588392],\n",
       "       [2.23214169, 2.67694879],\n",
       "       [2.31920068, 2.92938861],\n",
       "       [2.34328383, 2.51607152],\n",
       "       [1.0886149 , 1.2154205 ],\n",
       "       [1.50871523, 1.88067239],\n",
       "       [1.43260521, 1.88488421],\n",
       "       [2.88859516, 2.94226552],\n",
       "       [1.85154733, 2.09777365],\n",
       "       [2.57640797, 1.48163638],\n",
       "       [2.09003242, 2.11268062],\n",
       "       [1.30883999, 1.62804479],\n",
       "       [2.83858629, 1.54996171],\n",
       "       [2.33034596, 2.35010085],\n",
       "       [1.1446349 , 2.15444698],\n",
       "       [2.13664745, 1.23605489],\n",
       "       [2.91341379, 2.67461221],\n",
       "       [1.44386471, 1.99151652],\n",
       "       [1.25476936, 1.30777084],\n",
       "       [2.820976  , 1.21843751],\n",
       "       [1.17113826, 2.23272441],\n",
       "       [1.48202645, 1.53347402],\n",
       "       [1.2115271 , 1.70407389],\n",
       "       [1.66520095, 2.01430464],\n",
       "       [2.60589433, 1.46653009],\n",
       "       [1.09979253, 2.7699012 ],\n",
       "       [1.01499462, 2.52184443],\n",
       "       [2.77636362, 2.71009771],\n",
       "       [1.29886998, 2.58869045],\n",
       "       [1.57474149, 1.82647512],\n",
       "       [1.20861903, 1.94080355],\n",
       "       [1.10752192, 2.80665096],\n",
       "       [2.96237434, 2.64962594],\n",
       "       [1.37815994, 1.65807735],\n",
       "       [2.8456421 , 1.46572566],\n",
       "       [2.32751903, 2.25486925]])"
      ]
     },
     "execution_count": 7,
     "metadata": {},
     "output_type": "execute_result"
    }
   ],
   "source": [
    "X1"
   ]
  },
  {
   "cell_type": "code",
   "execution_count": 6,
   "metadata": {},
   "outputs": [
    {
     "data": {
      "image/png": "[encoded data removed]",
      "text/plain": [
       "<Figure size 432x288 with 1 Axes>"
      ]
     },
     "metadata": {
      "needs_background": "light"
     },
     "output_type": "display_data"
    }
   ],
   "source": [
    "plt.scatter(X[ : , 0], X[ :, 1], s = 20, color = 'brown')\n",
    "plt.show()"
   ]
  },
  {
   "cell_type": "code",
   "execution_count": 11,
   "metadata": {},
   "outputs": [
    {
     "data": {
      "text/plain": [
       "KMeans(algorithm='auto', copy_x=True, init='k-means++', max_iter=300,\n",
       "       n_clusters=2, n_init=10, n_jobs=None, precompute_distances='auto',\n",
       "       random_state=None, tol=0.0001, verbose=0)"
      ]
     },
     "execution_count": 11,
     "metadata": {},
     "output_type": "execute_result"
    }
   ],
   "source": [
    "Kmean = KMeans(n_clusters=2)\n",
    "Kmean.fit(X)"
   ]
  },
  {
   "cell_type": "code",
   "execution_count": 12,
   "metadata": {},
   "outputs": [
    {
     "data": {
      "text/plain": [
       "array([[ 1.92770516,  2.01316746],\n",
       "       [-1.09355509, -0.91650747]])"
      ]
     },
     "execution_count": 12,
     "metadata": {},
     "output_type": "execute_result"
    }
   ],
   "source": [
    "Kmean.cluster_centers_"
   ]
  },
  {
   "cell_type": "code",
   "execution_count": 13,
   "metadata": {},
   "outputs": [
    {
     "data": {
      "text/plain": [
       "array([1, 1, 1, 1, 1, 1, 1, 1, 1, 1, 1, 1, 1, 1, 1, 1, 1, 1, 1, 1, 1, 1,\n",
       "       1, 1, 1, 1, 1, 1, 1, 1, 1, 1, 1, 1, 1, 1, 1, 1, 1, 1, 1, 1, 1, 1,\n",
       "       1, 1, 1, 1, 1, 1, 0, 0, 0, 0, 0, 0, 0, 0, 0, 0, 0, 0, 0, 0, 0, 0,\n",
       "       0, 0, 0, 0, 0, 0, 0, 0, 0, 0, 0, 0, 0, 0, 0, 0, 0, 0, 0, 0, 0, 0,\n",
       "       0, 0, 0, 0, 0, 0, 0, 0, 0, 0, 0, 0])"
      ]
     },
     "execution_count": 13,
     "metadata": {},
     "output_type": "execute_result"
    }
   ],
   "source": [
    "Kmean.labels_"
   ]
  },
  {
   "cell_type": "code",
   "execution_count": 14,
   "metadata": {},
   "outputs": [],
   "source": [
    "labels = Kmean.labels_"
   ]
  },
  {
   "cell_type": "code",
   "execution_count": 18,
   "metadata": {},
   "outputs": [
    {
     "data": {
      "image/png": "[encoded data removed]",
      "text/plain": [
       "<Figure size 432x288 with 1 Axes>"
      ]
     },
     "metadata": {
      "needs_background": "light"
     },
     "output_type": "display_data"
    }
   ],
   "source": [
    "plt.scatter(X[ : , 0], X[ : , 1], s=50, c=labels)\n",
    "plt.scatter(Kmean.cluster_centers_[0][0], Kmean.cluster_centers_[0][1], s=200, color='green')\n",
    "plt.scatter(Kmean.cluster_centers_[1][0], Kmean.cluster_centers_[1][1], s=200, color='blue')\n",
    "plt.show()"
   ]
  },
  {
   "cell_type": "code",
   "execution_count": null,
   "metadata": {},
   "outputs": [],
   "source": []
  }
 ],
 "metadata": {
  "kernelspec": {
   "display_name": "Python 3",
   "language": "python",
   "name": "python3"
  },
  "language_info": {
   "codemirror_mode": {
    "name": "ipython",
    "version": 3
   },
   "file_extension": ".py",
   "mimetype": "text/x-python",
   "name": "python",
   "nbconvert_exporter": "python",
   "pygments_lexer": "ipython3",
   "version": "3.7.4"
  }
 },
 "nbformat": 4,
 "nbformat_minor": 2
}
